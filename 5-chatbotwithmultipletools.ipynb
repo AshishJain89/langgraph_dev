{
 "cells": [
  {
   "cell_type": "markdown",
   "metadata": {},
   "source": [
    "### Building Chatbot with multiple tools using LangGraph"
   ]
  },
  {
   "cell_type": "markdown",
   "metadata": {},
   "source": [
    "Create a chatbot with tool capabilitie from arxiv, wiki search and some functions"
   ]
  },
  {
   "cell_type": "code",
   "execution_count": 1,
   "metadata": {},
   "outputs": [],
   "source": [
    "import os\n",
    "from typing import Annotated\n",
    "from langchain_groq import ChatGroq\n",
    "from typing_extensions import TypedDict\n",
    "from IPython.display import Image, display\n",
    "from langgraph.graph.message import add_messages\n",
    "from langgraph.graph import START, END, StateGraph\n",
    "from langgraph.prebuilt import ToolNode, tools_condition\n",
    "from langchain_community.tools import ArxivQueryRun , WikipediaQueryRun\n",
    "from langchain_community.utilities import WikipediaAPIWrapper , ArxivAPIWrapper\n",
    "from langchain_community.tools.tavily_search import TavilySearchResults\n",
    "from langchain_core.messages import HumanMessage , AIMessage, AnyMessage\n",
    "\n",
    "from dotenv import load_dotenv\n",
    "load_dotenv()\n",
    "\n",
    "# Load API keys from environment variables\n",
    "TAVILY_API_KEY = os.getenv('TAVILY_API_KEY')\n",
    "GROQ_API_KEY = os.getenv('GROQ_API_KEY')"
   ]
  },
  {
   "cell_type": "code",
   "execution_count": 2,
   "metadata": {},
   "outputs": [
    {
     "name": "stdout",
     "output_type": "stream",
     "text": [
      "api_wrapper=ArxivAPIWrapper(arxiv_search=<class 'arxiv.Search'>, arxiv_exceptions=(<class 'arxiv.ArxivError'>, <class 'arxiv.UnexpectedEmptyPageError'>, <class 'arxiv.HTTPError'>), top_k_results=2, ARXIV_MAX_QUERY_LENGTH=300, continue_on_failure=False, load_max_docs=100, load_all_available_meta=False, doc_content_chars_max=500)\n"
     ]
    }
   ],
   "source": [
    "api_wrapper_arxiv = ArxivAPIWrapper(top_k_results=2, doc_content_chars_max=500)\n",
    "arxiv = ArxivQueryRun(api_wrapper=api_wrapper_arxiv)\n",
    "print(arxiv)"
   ]
  },
  {
   "cell_type": "code",
   "execution_count": 3,
   "metadata": {},
   "outputs": [
    {
     "data": {
      "text/plain": [
       "\"Published: 2024-07-22\\nTitle: Attention Is All You Need But You Don't Need All Of It For Inference of Large Language Models\\nAuthors: Georgy Tyukin, Gbetondji J-S Dovonon, Jean Kaddour, Pasquale Minervini\\nSummary: The inference demand for LLMs has skyrocketed in recent months, and serving\\nmodels with low latencies remains challenging due to the quadratic input length\\ncomplexity of the attention layers. In this work, we investigate the effect of\\ndropping MLP and attention layers at inference time o\""
      ]
     },
     "execution_count": 3,
     "metadata": {},
     "output_type": "execute_result"
    }
   ],
   "source": [
    "arxiv.invoke('Attention is all you need')"
   ]
  },
  {
   "cell_type": "code",
   "execution_count": 4,
   "metadata": {},
   "outputs": [
    {
     "name": "stdout",
     "output_type": "stream",
     "text": [
      "wikipedia\n"
     ]
    }
   ],
   "source": [
    "api_wrapper_wiki = WikipediaAPIWrapper(top_k_results=1, doc_content_chars_max=500)\n",
    "wiki = WikipediaQueryRun(api_wrapper=api_wrapper_wiki)\n",
    "print(wiki.name)"
   ]
  },
  {
   "cell_type": "code",
   "execution_count": 5,
   "metadata": {},
   "outputs": [
    {
     "name": "stderr",
     "output_type": "stream",
     "text": [
      "/tmp/ipykernel_12447/3511424502.py:1: LangChainDeprecationWarning: The class `TavilySearchResults` was deprecated in LangChain 0.3.25 and will be removed in 1.0. An updated version of the class exists in the :class:`~langchain-tavily package and should be used instead. To use it run `pip install -U :class:`~langchain-tavily` and import as `from :class:`~langchain_tavily import TavilySearch``.\n",
      "  tavily = TavilySearchResults(api_key=TAVILY_API_KEY)\n"
     ]
    },
    {
     "data": {
      "text/plain": [
       "[{'title': 'Artificial Intelligence News - ScienceDaily',\n",
       "  'url': 'https://www.sciencedaily.com/news/computers_math/artificial_intelligence/',\n",
       "  'content': \"ScienceDaily\\n\\n# Artificial Intelligence News\\n\\n## Top Headlines\\n\\n## Latest Headlines\\n\\n## Earlier Headlines\\n\\n### Wednesday, May 28, 2025\\n\\n### Tuesday, May 27, 2025\\n\\n### Thursday, May 22, 2025\\n\\n### Wednesday, May 21, 2025\\n\\n### Monday, May 19, 2025\\n\\n### Thursday, May 15, 2025\\n\\n### Wednesday, May 14, 2025\\n\\n### Tuesday, May 13, 2025\\n\\n### Monday, May 12, 2025\\n\\n### Thursday, May 8, 2025\\n\\n### Wednesday, May 7, 2025\\n\\n### Tuesday, May 6, 2025\\n\\n### Monday, May 5, 2025\\n\\n### Thursday, May 1, 2025 [...] ### Wednesday, April 30, 2025\\n\\n### Monday, April 28, 2025\\n\\n### Friday, April 25, 2025\\n\\n### Thursday, April 24, 2025\\n\\n### Wednesday, April 23, 2025\\n\\n### Tuesday, April 22, 2025\\n\\n### Monday, April 21, 2025\\n\\n### Wednesday, April 16, 2025\\n\\n### Tuesday, April 15, 2025\\n\\n### Monday, April 14, 2025\\n\\n### Thursday, April 10, 2025\\n\\n### Wednesday, April 9, 2025\\n\\n### Tuesday, April 8, 2025\\n\\n### Monday, April 7, 2025\\n\\n### Friday, April 4, 2025\\n\\n### Thursday, April 3, 2025\\n\\n### Wednesday, April 2, 2025 [...] ### Monday, March 31, 2025\\n\\n### Friday, March 28, 2025\\n\\n### Thursday, March 27, 2025\\n\\n### Wednesday, March 26, 2025\\n\\n### Tuesday, March 25, 2025\\n\\n### Thursday, March 20, 2025\\n\\n### Wednesday, March 19, 2025\\n\\n### Tuesday, March 18, 2025\\n\\n## Breaking\\n\\n## Trending Topics\\n\\n## Strange & Offbeat\\n\\nStay informed with ScienceDaily's free email newsletter, updated daily and weekly. Or view our many newsfeeds in your RSS reader:\\n\\nKeep up to date with the latest news from ScienceDaily via social networks:\",\n",
       "  'score': 0.6643884},\n",
       " {'title': 'AI News & Artificial Intelligence | TechCrunch',\n",
       "  'url': 'https://techcrunch.com/category/artificial-intelligence/',\n",
       "  'content': '### The computer science dream has become a nightmare\\n\\nOpenAI CEO Sam Altman speaks during the OpenAI DevDay event on November 06, 2023 in San Francisco, California.\\n\\n### Sam Altman addresses ‘bumpy’ GPT-5 rollout, bringing 4o back, and the ‘chart crime’\\n\\n### RIP, Microsoft Lens, a simple little app that’s getting replaced by AI\\n\\nOpenArt video of a cat at a desktop computer\\n\\n### Former Googlers’ AI startup OpenArt now creates ‘brain rot’ videos in just one click\\n\\nTechCrunch Disrupt Expo Hall [...] Contact Us\\n\\n# AI\\n\\nNews coverage on artificial intelligence and machine learning tech, the companies building them, and the ethical issues AI raises today. This encompasses generative AI, including large language models, text-to-image and text-to-video models; speech recognition and generation; and predictive analytics.\\n\\n### \\n\\nThe Grok logo appears on a phone and the xAI logo is displayed on a laptop.\\n\\n### Co-founder of Elon Musk’s xAI departs the company [...] ### Elon Musk confirms shutdown of Tesla Dojo, ‘an evolutionary dead end’\\n\\nthe NVIDIA booth at the 3rd China International Supply Chain Expo in Beijing, China, on July 20, 2025\\n\\n### Nvidia, AMD may sell high-end AI chips to China if they pay US a cut\\n\\nAn image of a woman holding a cell phone in front of the Siri logo displayed on a computer screen.\\n\\n### Apple’s new Siri may allow users to operate apps just using voice\\n\\nstudents typing on laptops',\n",
       "  'score': 0.6279746},\n",
       " {'title': 'AI Magazine: Home of AI and Artificial Intelligence News',\n",
       "  'url': 'https://aimagazine.com/',\n",
       "  'content': '### Huawei AI Container Platform Earns Gartner Recognition\\n\\n### Why Perplexity Has Offered to Buy Google Chrome for $34.5bn\\n\\nPerplexity’s US$34.5bn bid to acquire Google’s Chrome browser signals a new battle for control of internet access amid rising US antitrust pressure…\\n\\n### Maaden Appoints CTO to Lead AI Push in Mining Sector\\n\\nSaudi mining giant Maaden names Donovan Waller as CTO, tasking him with driving AI-powered digital transformation in line with Vision 2030 goals… [...] ### Cassava and Nvidia Bringing AI Supercomputing to Africa\\n\\n### CoreWeave’s Goals From Investing $6bn in AI Data Centres\\n\\n### Is ‘Zero Trust’ the Future of Data Centre Security?\\n\\n### Aussie Telcos Face Data Security Risks Despite Digital Push\\n\\n### People Moves: Jane Rheem\\n\\n## Events\\n\\n### Big Data & AI World Asia\\n\\nJoin us at Marina Bay Sands, Singapore, on 8–9 October 2025 for the leading event dedicated to Big Data & AI professionals!…\\n\\n### Cloud & AI Infrastructure Asia [...] ### ARtGlass: The World Leader in Wearable AR Experience\\n\\nWhere Innovation Meets Cultural Heritage through Immersive AR…\\n\\n### Apple’s Vision Pro Headset marks a New Era of AR Technology\\n\\n### Microsoft and Inworld AI partner to harness Generative AI\\n\\n## Data & Analytics\\n\\n### Cassava and Nvidia Bringing AI Supercomputing to Africa\\n\\nA US$700m deal between Nvidia and Cassava launches Africa’s first AI data centres, reshaping infrastructure, access and private tech investment…',\n",
       "  'score': 0.5683445},\n",
       " {'title': 'The State of AI 2025 - Bessemer Venture Partners',\n",
       "  'url': 'https://www.bvp.com/atlas/the-state-of-ai-2025',\n",
       "  'content': \"## 1. The browser will emerge as a dominant interface for agentic AI\\n\\nAs agentic AI evolves, the browser is emerging as a potential environment for autonomous execution—not just a tool for navigation, but a programmable interface to the entire digital world.\\n\\n## 2. 2026 will be the year of generative video [...] 2024 marked the mainstream inflection point for generative image models. 2025 saw a similar breakout in voice, driven by improvements in latency, awareness, human-likeness, and customization, coupled with massive cost reductions. 2026 is shaping up to be the year video crosses the chasm. Model quality—across Google’s Veo 3, Kling, OpenAI’s Sora, Moonvalley’s Marey, and emerging open-source stacks—is accelerating. We're nearing a tipping point in controllability, accessibility, and realism, that [...] Let's start with the obvious: a handful of players such as OpenAI, Anthropic, Gemini, Llama and xAI continue to dominate the foundation model landscape, advancing model performance, while simultaneously exploring vertical integration. It’s clear now that big labs are moving beyond offering just foundation models and tooling for model development—these labs are now rolling out agents for coding, computer use, and MCP integrations. Meanwhile, compute costs continue to drop predictably—driven by\",\n",
       "  'score': 0.53590065},\n",
       " {'title': 'Clarifying The Latest AI Advancements - Forbes',\n",
       "  'url': 'https://www.forbes.com/councils/forbestechcouncil/2025/03/05/clarifying-the-latest-ai-advancements/',\n",
       "  'content': 'Another “invisible” AI advancement is improvements to the training of large language models (LLMs), which have a high cost and energy expenditure.\\n\\nA November 2024 report from Deloitte predicts that energy consumption from AI use will go from the current 382 terawatt hours (TWh) to 1,975 TWh in 2035 and up to 3,059 TWh in 2045 if adoption rates are high. To put this in perspective, one terawatt hour could power the entire U.S. for 2.5 days. [...] A recent publication from Apollo Research, an AI safety firm, showed that the most advanced AI models may plot against their creators and users in specific circumstances. The systems occasionally tried to evade scrutiny, falsify alignment and conceal their actual capabilities when instructed to follow a specific goal. [...] The ability to use tools and perform multi-step activities on behalf of a user can be granted to AI agents. Only recently has the AI industry turned its attention to implementing agents instead of passive chatbots. Progress has been made quickly.\\n\\nThe dark side of this progress is that as AI models become more intelligent, they become more adept at deceit. As they become smarter, they can better understand the purpose of their guidelines.',\n",
       "  'score': 0.48528314}]"
      ]
     },
     "execution_count": 5,
     "metadata": {},
     "output_type": "execute_result"
    }
   ],
   "source": [
    "tavily = TavilySearchResults(api_key=TAVILY_API_KEY)\n",
    "tavily.invoke('Provide me latest AI news')"
   ]
  },
  {
   "cell_type": "code",
   "execution_count": 6,
   "metadata": {},
   "outputs": [],
   "source": [
    "# Combine all the tools to create a toolkit\n",
    "tools = [arxiv , wiki, tavily]"
   ]
  },
  {
   "cell_type": "code",
   "execution_count": null,
   "metadata": {},
   "outputs": [
    {
     "data": {
      "text/plain": [
       "AIMessage(content='', additional_kwargs={'tool_calls': [{'id': '3ns510nvz', 'function': {'arguments': '{\"query\":\"recent ai news\"}', 'name': 'tavily_search_results_json'}, 'type': 'function'}]}, response_metadata={'token_usage': {'completion_tokens': 88, 'prompt_tokens': 1285, 'total_tokens': 1373, 'completion_time': 0.16, 'prompt_time': 0.03011903, 'queue_time': 0.25618978, 'total_time': 0.19011903}, 'model_name': 'gemma2-9b-it', 'system_fingerprint': 'fp_10c08bf97d', 'service_tier': 'on_demand', 'finish_reason': 'tool_calls', 'logprobs': None}, id='run--2e8c4780-c2da-4b18-9f3a-4a775fdaae0c-0', tool_calls=[{'name': 'tavily_search_results_json', 'args': {'query': 'recent ai news'}, 'id': '3ns510nvz', 'type': 'tool_call'}], usage_metadata={'input_tokens': 1285, 'output_tokens': 88, 'total_tokens': 1373})"
      ]
     },
     "execution_count": 8,
     "metadata": {},
     "output_type": "execute_result"
    }
   ],
   "source": [
    "# Initialize my LLM model\n",
    "llm = ChatGroq(model='gemma2-9b-it')\n",
    "llm_with_tools = llm.bind_tools(tools)\n",
    "llm_with_tools.invoke([HumanMessage(content='What is recent AI news')])"
   ]
  },
  {
   "cell_type": "code",
   "execution_count": 9,
   "metadata": {},
   "outputs": [
    {
     "data": {
      "text/plain": [
       "AIMessage(content=\"Here are 5 of the most popular and widely-used machine learning (ML) libraries, along with a brief description of their strengths:\\n\\n1. **TensorFlow (Google)**:  \\n    * **Strengths**:  Highly flexible and scalable, excellent for deep learning (neural networks), supports both research and production, vast community and resources.\\n2. **PyTorch (Meta)**:\\n    * **Strengths**:  Known for its intuitive and Pythonic API, favored by researchers for its dynamic computation graph, strong in natural language processing (NLP).\\n3. **Scikit-learn**:\\n    * **Strengths**:  User-friendly and well-documented, focuses on traditional machine learning algorithms (classification, regression, clustering, etc.), great for beginners and prototyping.\\n4. **Keras**:\\n    * **Strengths**:  Built on top of TensorFlow (or other backends), simplifies deep learning model building, beginner-friendly, allows for rapid prototyping.\\n5. **XGBoost**:\\n    * **Strengths**:  Extremely efficient and powerful gradient boosting library, often outperforms other algorithms in structured data tasks, popular in competitions.\\n\\n**Choosing the Right Library:**\\n\\nThe best library depends on your specific needs:\\n\\n* **Deep Learning:** TensorFlow or PyTorch are usually the go-to choices.\\n* **General Machine Learning:** Scikit-learn is a solid starting point.\\n* **Rapid Prototyping:** Keras can help you quickly build and experiment with models.\\n* **High Performance:** XGBoost excels in structured data tasks.\\n\\n\\nLet me know if you'd like more details about any particular library or have other questions!\\n\", additional_kwargs={}, response_metadata={'token_usage': {'completion_tokens': 343, 'prompt_tokens': 17, 'total_tokens': 360, 'completion_time': 0.623636364, 'prompt_time': 0.001247309, 'queue_time': 0.250281701, 'total_time': 0.624883673}, 'model_name': 'gemma2-9b-it', 'system_fingerprint': 'fp_10c08bf97d', 'service_tier': 'on_demand', 'finish_reason': 'stop', 'logprobs': None}, id='run--1f2970e2-76e2-4b4c-b756-0b50af5a9915-0', usage_metadata={'input_tokens': 17, 'output_tokens': 343, 'total_tokens': 360})"
      ]
     },
     "execution_count": 9,
     "metadata": {},
     "output_type": "execute_result"
    }
   ],
   "source": [
    "llm.invoke('Give me top 5 ML libraries used')"
   ]
  },
  {
   "cell_type": "markdown",
   "metadata": {},
   "source": [
    "We will build the chatbot using LangGraph"
   ]
  },
  {
   "cell_type": "code",
   "execution_count": null,
   "metadata": {},
   "outputs": [],
   "source": [
    "class State(TypedDict):\n",
    "    messages : Annotated[list[AnyMessage] , add_messages]\n",
    "\n",
    "# Create Nodes \n",
    "def tool_calling_llm(state : State):\n",
    "    return {'messages' : [llm_with_tools.invoke(state['messages'])]}\n",
    "\n",
    "builder = StateGraph(State)\n",
    "builder.add_node('tool_calling_llm' , tool_calling_llm)\n",
    "builder.add_node('tools' , ToolNode(tools))\n",
    "\n",
    "# Adding the edges\n",
    "builder.add_edge(START , 'tool_calling_llm')\n",
    "builder.add_conditional_edges('tool_calling_llm' , tools_condition)\n",
    "builder.add_edge('tools' , END)\n",
    "\n",
    "# Compile\n",
    "graph = builder.compile()"
   ]
  },
  {
   "cell_type": "code",
   "execution_count": 11,
   "metadata": {},
   "outputs": [
    {
     "data": {
      "image/png": "[encoded data removed]",
      "text/plain": [
       "<IPython.core.display.Image object>"
      ]
     },
     "metadata": {},
     "output_type": "display_data"
    }
   ],
   "source": [
    "# Display\n",
    "display(Image(graph.get_graph().draw_mermaid_png()))"
   ]
  },
  {
   "cell_type": "code",
   "execution_count": 12,
   "metadata": {},
   "outputs": [
    {
     "data": {
      "text/plain": [
       "{'messages': [HumanMessage(content='Give me 5 beautiful destinations in world', additional_kwargs={}, response_metadata={}, id='e6da441a-51b9-4dea-bf5c-c2e5ce9bb4e9'),\n",
       "  AIMessage(content='', additional_kwargs={'tool_calls': [{'id': 'zek9d6c22', 'function': {'arguments': '{\"query\":\"List of beautiful places in the world\"}', 'name': 'wikipedia'}, 'type': 'function'}]}, response_metadata={'token_usage': {'completion_tokens': 86, 'prompt_tokens': 1288, 'total_tokens': 1374, 'completion_time': 0.156363636, 'prompt_time': 0.029881019, 'queue_time': 0.247691987, 'total_time': 0.186244655}, 'model_name': 'gemma2-9b-it', 'system_fingerprint': 'fp_10c08bf97d', 'service_tier': 'on_demand', 'finish_reason': 'tool_calls', 'logprobs': None}, id='run--07ceddcf-8402-47f7-8050-46b2c45f4364-0', tool_calls=[{'name': 'wikipedia', 'args': {'query': 'List of beautiful places in the world'}, 'id': 'zek9d6c22', 'type': 'tool_call'}], usage_metadata={'input_tokens': 1288, 'output_tokens': 86, 'total_tokens': 1374}),\n",
       "  ToolMessage(content='Page: Whenever, If Ever\\nSummary: Whenever, If Ever is the debut studio album by American indie rock band The World Is a Beautiful Place & I Am No Longer Afraid to Die, released on June 18, 2013, on Topshelf Records.', name='wikipedia', id='206aaa69-1220-4b0c-8c9f-5c7f495e2068', tool_call_id='zek9d6c22')]}"
      ]
     },
     "execution_count": 12,
     "metadata": {},
     "output_type": "execute_result"
    }
   ],
   "source": [
    "# Invocation\n",
    "messages = graph.invoke({'messages' : HumanMessage(content='Give me 5 beautiful destinations in world')})\n",
    "messages"
   ]
  },
  {
   "cell_type": "code",
   "execution_count": 13,
   "metadata": {},
   "outputs": [
    {
     "name": "stdout",
     "output_type": "stream",
     "text": [
      "================================\u001b[1m Human Message \u001b[0m=================================\n",
      "\n",
      "Give me 5 beautiful destinations in world\n",
      "==================================\u001b[1m Ai Message \u001b[0m==================================\n",
      "Tool Calls:\n",
      "  wikipedia (zek9d6c22)\n",
      " Call ID: zek9d6c22\n",
      "  Args:\n",
      "    query: List of beautiful places in the world\n",
      "=================================\u001b[1m Tool Message \u001b[0m=================================\n",
      "Name: wikipedia\n",
      "\n",
      "Page: Whenever, If Ever\n",
      "Summary: Whenever, If Ever is the debut studio album by American indie rock band The World Is a Beautiful Place & I Am No Longer Afraid to Die, released on June 18, 2013, on Topshelf Records.\n"
     ]
    }
   ],
   "source": [
    "for m in messages['messages']:\n",
    "    m.pretty_print()\n",
    "\n",
    "messages = graph.invoke({'messages' : HumanMessage(content='Give me details about research paper Attention is all you need')})"
   ]
  },
  {
   "cell_type": "code",
   "execution_count": 14,
   "metadata": {},
   "outputs": [
    {
     "name": "stdout",
     "output_type": "stream",
     "text": [
      "================================\u001b[1m Human Message \u001b[0m=================================\n",
      "\n",
      "Give me details about research paper Attention is all you need\n",
      "==================================\u001b[1m Ai Message \u001b[0m==================================\n",
      "Tool Calls:\n",
      "  arxiv (m1p00wcqr)\n",
      " Call ID: m1p00wcqr\n",
      "  Args:\n",
      "    query: Attention is all you need\n",
      "=================================\u001b[1m Tool Message \u001b[0m=================================\n",
      "Name: arxiv\n",
      "\n",
      "Published: 2024-07-22\n",
      "Title: Attention Is All You Need But You Don't Need All Of It For Inference of Large Language Models\n",
      "Authors: Georgy Tyukin, Gbetondji J-S Dovonon, Jean Kaddour, Pasquale Minervini\n",
      "Summary: The inference demand for LLMs has skyrocketed in recent months, and serving\n",
      "models with low latencies remains challenging due to the quadratic input length\n",
      "complexity of the attention layers. In this work, we investigate the effect of\n",
      "dropping MLP and attention layers at inference time o\n"
     ]
    }
   ],
   "source": [
    "for m in messages['messages']:\n",
    "    m.pretty_print()\n",
    "\n",
    "messages = graph.invoke({'messages' : HumanMessage(content='What is Machine Learning')})"
   ]
  },
  {
   "cell_type": "code",
   "execution_count": 15,
   "metadata": {},
   "outputs": [
    {
     "name": "stdout",
     "output_type": "stream",
     "text": [
      "================================\u001b[1m Human Message \u001b[0m=================================\n",
      "\n",
      "What is Machine Learning\n",
      "==================================\u001b[1m Ai Message \u001b[0m==================================\n",
      "Tool Calls:\n",
      "  wikipedia (8r40v5d4z)\n",
      " Call ID: 8r40v5d4z\n",
      "  Args:\n",
      "    query: Machine Learning\n",
      "=================================\u001b[1m Tool Message \u001b[0m=================================\n",
      "Name: wikipedia\n",
      "\n",
      "Page: Machine learning\n",
      "Summary: Machine learning (ML) is a field of study in artificial intelligence concerned with the development and study of statistical algorithms that can learn from data and generalise to unseen data, and thus perform tasks without explicit instructions. Within a subdiscipline in machine learning, advances in the field of deep learning have allowed neural networks, a class of statistical algorithms, to surpass many previous machine learning approaches in performance.\n",
      "ML fi\n"
     ]
    }
   ],
   "source": [
    "for m in messages['messages']:\n",
    "    m.pretty_print()"
   ]
  }
 ],
 "metadata": {
  "kernelspec": {
   "display_name": "test",
   "language": "python",
   "name": "python3"
  },
  "language_info": {
   "codemirror_mode": {
    "name": "ipython",
    "version": 3
   },
   "file_extension": ".py",
   "mimetype": "text/x-python",
   "name": "python",
   "nbconvert_exporter": "python",
   "pygments_lexer": "ipython3",
   "version": "3.12.1"
  }
 },
 "nbformat": 4,
 "nbformat_minor": 2
}
